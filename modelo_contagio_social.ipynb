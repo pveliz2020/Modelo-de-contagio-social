{
 "cells": [
  {
   "cell_type": "code",
   "execution_count": 3,
   "id": "3f034caf-2b7f-449f-a73c-dba1baea2755",
   "metadata": {},
   "outputs": [
    {
     "name": "stdout",
     "output_type": "stream",
     "text": [
      "Para la simulación, debemos considerar que:\n",
      "a = α = Tasa de propagación del rumor (o de \"Contagio\")\n",
      "b = β = Tasa de desinterés (o de \"recuperación\")\n",
      "n = Número de personas en total\n",
      "I0 = Ignorantes iniciales\n",
      "S0 = Sofocadores iniciales\n",
      "E0 = Esparcidores iniciales\n",
      "tsim = Tiempo final de la simulación [Segundos]\n",
      "Al momento de modificar los parámetros, hay que tener en cuenta la igualdad (I0+S0+E0=n) para que nuestra simulación tenga sentido.\n"
     ]
    },
    {
     "data": {
      "application/vnd.jupyter.widget-view+json": {
       "model_id": "df13efeaeb704dc99d4e7d2a82fe22a6",
       "version_major": 2,
       "version_minor": 0
      },
      "text/plain": [
       "interactive(children=(FloatSlider(value=0.2, description='a', max=1.0, step=0.01), FloatSlider(value=0.02, des…"
      ]
     },
     "metadata": {},
     "output_type": "display_data"
    },
    {
     "data": {
      "text/plain": [
       "ipywidgets.widgets.interaction._InteractFactory"
      ]
     },
     "execution_count": 3,
     "metadata": {},
     "output_type": "execute_result"
    }
   ],
   "source": [
    "import numpy as np\n",
    "import matplotlib.pyplot as plt\n",
    "import ipywidgets as widgets\n",
    "\n",
    "#Parámetros\n",
    "def parametros(a=0.2,b=0.02,n=100000,I0=50000,S0=500,E0=49500,tsim=0):\n",
    "    \n",
    "    # a = Tasa de propagación del rumor (o de \"Contagio\")\n",
    "    # b = Tasa de desinterés (o de \"recuperación\")\n",
    "    # n = Número de personas en total\n",
    "    # I0 = Ignorantes iniciales\n",
    "    # S0 = Sofocadores iniciales\n",
    "    # E0 = Esparcidores iniciales\n",
    "    # tsim = Tiempo final de la simulación\n",
    "    \n",
    "    num_steps = 1000  #Divisiónes del intervalo\n",
    "    h = tsim / num_steps  #Paso para el método de Euler\n",
    "\n",
    "    #Vectores nulos\n",
    "    I = np.zeros([num_steps + 1, 1])  #Ignorantes\n",
    "    S = np.zeros([num_steps + 1, 1])  #Sofocadores\n",
    "    E = np.zeros([num_steps + 1, 1])  #Esparcidores\n",
    "\n",
    "    #Vector para 'tiempo'\n",
    "    t = np.linspace(0, tsim,num_steps+1) #probar con array para ver qué pasa\n",
    "    \n",
    "    #Condiciones iniciales\n",
    "    I[0] = I0\n",
    "    S[0] = S0\n",
    "    E[0] = E0\n",
    "    \n",
    "    #Calculamos la solución para cada punto del intervalo\n",
    "    for i in range(num_steps):\n",
    "        #Definimos las ecuaciones diferenciales como un arreglo\n",
    "        F = np.array([[- (a/n) * I[i] * E[i]], [(b/n) * E[i] * (E[i] + S[i])], [((a/n) * I[i] * E[i]) - ((b/n) * E[i] * (E[i] + S[i]))]], dtype='float')\n",
    "\n",
    "        #Aplicamos Método de Euler\n",
    "        I[i+1] = I[i] + h * F[0]\n",
    "        S[i+1] = S[i] + h * F[1]\n",
    "        E[i+1] = E[i] + h * F[2]\n",
    "\n",
    "    #Graficando las soluciones\n",
    "    plt.figure(figsize=(12,8))\n",
    "    plt.style.use('fivethirtyeight')\n",
    "    \n",
    "    plt.plot(t,I, label='Ignorantes')\n",
    "    plt.plot(t,S, label='Sofocadores')\n",
    "    plt.plot(t,E, label='Esparcidores')\n",
    "    \n",
    "    plt.title(\"Simulación modelo de contagio social\")\n",
    "    \n",
    "    plt.xlabel('Tiempo [Segundos]')\n",
    "    plt.ylabel('Número de personas')\n",
    "    plt.legend(loc='upper left')\n",
    "\n",
    "#Widget interactivo    \n",
    "print('Para la simulación, debemos considerar que:')\n",
    "print('a =', chr(945) , '=' , 'Tasa de propagación del rumor (o de \"Contagio\")')\n",
    "print('b =', chr(946) , '=' , 'Tasa de desinterés (o de \"recuperación\")')\n",
    "print('n = Número de personas en total')\n",
    "print('I0 = Ignorantes iniciales')\n",
    "print('S0 = Sofocadores iniciales')\n",
    "print('E0 = Esparcidores iniciales')\n",
    "print('tsim = Tiempo final de la simulación [Segundos]')    \n",
    "print('Al momento de modificar los parámetros, hay que tener en cuenta la igualdad (I0+S0+E0=n) para que nuestra simulación tenga sentido.')\n",
    "widgets.interact(parametros,a=(0,1,0.01),b=(0,1,0.01),n=(1,100000,100),I0=(0,100000,100),S0=(0,100000,100),E0=(0,100000,100),tsim=widgets.Play(min=1,max=350))\n",
    "\n",
    "print('Al momento de modificar los parámetros, hay que tener en cuenta la igualdad (I0+S0+E0=n) para que nuestra simulación tenga sentido.')\n",
    
   ]
  },
  {
   "cell_type": "code",
   "execution_count": null,
   "id": "ee0f85c6-f786-4348-86c4-e4f5216c1e1a",
   "metadata": {},
   "outputs": [],
   "source": []
  }
 ],
 "metadata": {
  "kernelspec": {
   "display_name": "Python 3 (ipykernel)",
   "language": "python",
   "name": "python3"
  },
  "language_info": {
   "codemirror_mode": {
    "name": "ipython",
    "version": 3
   },
   "file_extension": ".py",
   "mimetype": "text/x-python",
   "name": "python",
   "nbconvert_exporter": "python",
   "pygments_lexer": "ipython3",
   "version": "3.9.7"
  }
 },
 "nbformat": 4,
 "nbformat_minor": 5
}
